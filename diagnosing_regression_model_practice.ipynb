{
 "cells": [
  {
   "cell_type": "markdown",
   "id": "8cced78b",
   "metadata": {},
   "source": [
    "# Diagnosing Your Regression Model (Practice)"
   ]
  },
  {
   "cell_type": "markdown",
   "id": "3a9a1f0b",
   "metadata": {},
   "source": [
    "**Task:** \n",
    "\n",
    "Revisit your model from the linear_regression_in_statsmodels_practice and test if your regression meets the assumption.\n",
    "\n",
    "In a markdown cell below your results, summarize what assumptions the model did and/or did not meet. \n",
    "\n",
    "If you model did not meet the assumptions, then iterate on the model and add/change any preprocessing needed to improve its performance. \n"
   ]
  },
  {
   "cell_type": "code",
   "execution_count": null,
   "id": "bcd8bad9",
   "metadata": {},
   "outputs": [],
   "source": []
  }
 ],
 "metadata": {
  "kernelspec": {
   "display_name": "Python (dojo-env)",
   "language": "python",
   "name": "dojo-env"
  },
  "language_info": {
   "codemirror_mode": {
    "name": "ipython",
    "version": 3
   },
   "file_extension": ".py",
   "mimetype": "text/x-python",
   "name": "python",
   "nbconvert_exporter": "python",
   "pygments_lexer": "ipython3",
   "version": "3.9.15"
  },
  "toc": {
   "base_numbering": 1,
   "nav_menu": {},
   "number_sections": false,
   "sideBar": true,
   "skip_h1_title": false,
   "title_cell": "Table of Contents",
   "title_sidebar": "Contents",
   "toc_cell": false,
   "toc_position": {},
   "toc_section_display": true,
   "toc_window_display": false
  }
 },
 "nbformat": 4,
 "nbformat_minor": 5
}
